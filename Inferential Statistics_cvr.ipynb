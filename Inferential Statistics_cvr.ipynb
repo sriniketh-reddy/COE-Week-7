{
 "cells": [
  {
   "cell_type": "markdown",
   "id": "dc9f2663-1d6e-4448-a803-bf495e986f3a",
   "metadata": {},
   "source": [
    "**Hypothesis Testing**"
   ]
  },
  {
   "cell_type": "markdown",
   "id": "437a2199-8658-4a03-b431-e11617399b55",
   "metadata": {},
   "source": [
    "**Introduction to Hypothesis Testing**\n",
    "\n",
    "\"Hypothesis testing is a statistical method used to make decisions or inferences about a population based on sample data. It helps us determine whether there is enough evidence to reject a null hypothesis in favor of an alternative hypothesis.\""
   ]
  },
  {
   "cell_type": "markdown",
   "id": "70ae7fed-c477-42fb-be48-1265f14068d7",
   "metadata": {},
   "source": [
    " **Steps in Hypothesis Testing**"
   ]
  },
  {
   "cell_type": "code",
   "execution_count": 1,
   "id": "7b1016dc-786f-43bd-b39e-d2d61a1336ef",
   "metadata": {},
   "outputs": [
    {
     "data": {
      "text/html": [
       "<img src=\"C:/Users/Suhel/Desktop/Statistics/19.png\" width=\"800\" height=\"300\"/>"
      ],
      "text/plain": [
       "<IPython.core.display.Image object>"
      ]
     },
     "execution_count": 1,
     "metadata": {},
     "output_type": "execute_result"
    }
   ],
   "source": [
    "# import image module \n",
    "from IPython.display import Image \n",
    "  \n",
    "# get the image \n",
    "Image(url=\"C:/Users/Suhel/Desktop/Statistics/19.png\", width=800, height=300) "
   ]
  },
  {
   "cell_type": "markdown",
   "id": "c590890b-df70-416e-805b-61d5127f0afa",
   "metadata": {},
   "source": [
    "**Types of Hypothesis Tests**"
   ]
  },
  {
   "cell_type": "code",
   "execution_count": 2,
   "id": "e231cda1-80bc-4581-9fb0-202592511a68",
   "metadata": {},
   "outputs": [
    {
     "data": {
      "text/html": [
       "<img src=\"C:/Users/Suhel/Desktop/Statistics/20.png\" width=\"800\" height=\"300\"/>"
      ],
      "text/plain": [
       "<IPython.core.display.Image object>"
      ]
     },
     "execution_count": 2,
     "metadata": {},
     "output_type": "execute_result"
    }
   ],
   "source": [
    "# import image module \n",
    "from IPython.display import Image \n",
    "  \n",
    "# get the image \n",
    "Image(url=\"C:/Users/Suhel/Desktop/Statistics/20.png\", width=800, height=300) "
   ]
  },
  {
   "cell_type": "markdown",
   "id": "592c5df6-b19a-44e9-a606-04f66df49c1a",
   "metadata": {},
   "source": [
    "**Example 1: One-Sample t-Test (Comparing Sample Mean to Population Mean)**"
   ]
  },
  {
   "cell_type": "markdown",
   "id": "4b9d508c-dce0-418b-b9c0-5046d9b8c015",
   "metadata": {},
   "source": [
    "**Scenario**\n",
    "\n",
    "A company claims that the average weight of its product is 500g. We collect a sample of 10 products and test whether the mean weight is different from 500g at a 5% significance level."
   ]
  },
  {
   "cell_type": "code",
   "execution_count": 3,
   "id": "209aa8b9-4c22-4956-b80e-1bca5bf9161d",
   "metadata": {},
   "outputs": [
    {
     "data": {
      "text/html": [
       "<img src=\"C:/Users/Suhel/Desktop/Statistics/21.png\" width=\"800\" height=\"300\"/>"
      ],
      "text/plain": [
       "<IPython.core.display.Image object>"
      ]
     },
     "execution_count": 3,
     "metadata": {},
     "output_type": "execute_result"
    }
   ],
   "source": [
    "# import image module \n",
    "from IPython.display import Image \n",
    "  \n",
    "# get the image \n",
    "Image(url=\"C:/Users/Suhel/Desktop/Statistics/21.png\", width=800, height=300) "
   ]
  },
  {
   "cell_type": "code",
   "execution_count": 4,
   "id": "d159bea3-57cc-4586-88d7-842e59b4b737",
   "metadata": {},
   "outputs": [
    {
     "name": "stdout",
     "output_type": "stream",
     "text": [
      "T-Statistic: -0.5222\n",
      "P-Value: 0.6141\n",
      "Fail to reject the null hypothesis: No significant difference from 500g.\n"
     ]
    }
   ],
   "source": [
    "import numpy as np\n",
    "import scipy.stats as stats\n",
    "\n",
    "# Sample data (weights of 10 products)\n",
    "sample_data = [498, 502, 495, 501, 499, 497, 503, 500, 496, 504]\n",
    "\n",
    "# Population mean\n",
    "mu = 500\n",
    "\n",
    "# Perform one-sample t-test\n",
    "t_stat, p_value = stats.ttest_1samp(sample_data, mu)\n",
    "\n",
    "# Print results\n",
    "print(f\"T-Statistic: {t_stat:.4f}\")\n",
    "print(f\"P-Value: {p_value:.4f}\")\n",
    "\n",
    "# Decision\n",
    "alpha = 0.05\n",
    "if p_value < alpha:\n",
    "    print(\"Reject the null hypothesis: The mean weight is significantly different from 500g.\")\n",
    "else:\n",
    "    print(\"Fail to reject the null hypothesis: No significant difference from 500g.\")\n"
   ]
  },
  {
   "cell_type": "markdown",
   "id": "b3fdfaa0-1337-445c-b9cc-00a69a285f70",
   "metadata": {},
   "source": [
    "**Example 2: Two-Sample t-Test (Comparing Two Groups)**"
   ]
  },
  {
   "cell_type": "markdown",
   "id": "1d85eb03-37a9-49d2-8fd8-81ab66c1539d",
   "metadata": {},
   "source": [
    "**Scenario**\n",
    "\n",
    "A researcher wants to compare the test scores of two different classes to see if there is a significant difference."
   ]
  },
  {
   "cell_type": "code",
   "execution_count": 5,
   "id": "e3b186dd-a890-4079-b739-16ed5c2e16b8",
   "metadata": {},
   "outputs": [
    {
     "data": {
      "text/html": [
       "<img src=\"C:/Users/Suhel/Desktop/Statistics/22.png\" width=\"800\" height=\"300\"/>"
      ],
      "text/plain": [
       "<IPython.core.display.Image object>"
      ]
     },
     "execution_count": 5,
     "metadata": {},
     "output_type": "execute_result"
    }
   ],
   "source": [
    "# import image module \n",
    "from IPython.display import Image \n",
    "  \n",
    "# get the image \n",
    "Image(url=\"C:/Users/Suhel/Desktop/Statistics/22.png\", width=800, height=300) "
   ]
  },
  {
   "cell_type": "code",
   "execution_count": 6,
   "id": "b104ff65-dd28-4ae2-9361-cc1897dcd7b7",
   "metadata": {},
   "outputs": [
    {
     "name": "stdout",
     "output_type": "stream",
     "text": [
      "T-Statistic: 1.2039\n",
      "P-Value: 0.2442\n",
      "Fail to reject the null hypothesis: No significant difference between classes.\n"
     ]
    }
   ],
   "source": [
    "# Sample data (Test scores of two classes)\n",
    "class_A = [75, 78, 80, 85, 88, 92, 95, 98, 100, 102]\n",
    "class_B = [70, 72, 76, 79, 83, 87, 90, 91, 94, 99]\n",
    "\n",
    "# Perform independent t-test\n",
    "t_stat, p_value = stats.ttest_ind(class_A, class_B)\n",
    "\n",
    "# Print results\n",
    "print(f\"T-Statistic: {t_stat:.4f}\")\n",
    "print(f\"P-Value: {p_value:.4f}\")\n",
    "\n",
    "# Decision\n",
    "if p_value < alpha:\n",
    "    print(\"Reject the null hypothesis: The two classes have significantly different scores.\")\n",
    "else:\n",
    "    print(\"Fail to reject the null hypothesis: No significant difference between classes.\")\n"
   ]
  },
  {
   "cell_type": "markdown",
   "id": "0114cc40-c466-4fed-ad9e-2da6a3ea64a1",
   "metadata": {},
   "source": [
    "**Example 3: Chi-Square Test (Categorical Data)**"
   ]
  },
  {
   "cell_type": "markdown",
   "id": "c68c0adb-a9af-464c-82df-274749adee87",
   "metadata": {},
   "source": [
    "**Scenario**\n",
    "\n",
    "A company wants to test if customer satisfaction is independent of the type of product purchased."
   ]
  },
  {
   "cell_type": "code",
   "execution_count": 7,
   "id": "460e883b-ecec-4445-96fc-d8a8dce38f1a",
   "metadata": {},
   "outputs": [
    {
     "data": {
      "text/html": [
       "<img src=\"C:/Users/Suhel/Desktop/Statistics/23.png\" width=\"800\" height=\"300\"/>"
      ],
      "text/plain": [
       "<IPython.core.display.Image object>"
      ]
     },
     "execution_count": 7,
     "metadata": {},
     "output_type": "execute_result"
    }
   ],
   "source": [
    "# import image module \n",
    "from IPython.display import Image \n",
    "  \n",
    "# get the image \n",
    "Image(url=\"C:/Users/Suhel/Desktop/Statistics/23.png\", width=800, height=300) "
   ]
  },
  {
   "cell_type": "code",
   "execution_count": 8,
   "id": "af365653-34a5-4b1c-8955-e17be461b3a9",
   "metadata": {},
   "outputs": [
    {
     "name": "stdout",
     "output_type": "stream",
     "text": [
      "Chi-Square Statistic: 15.0417\n",
      "P-Value: 0.0001\n",
      "Reject the null hypothesis: Customer satisfaction depends on product type.\n"
     ]
    }
   ],
   "source": [
    "import scipy.stats as stats\n",
    "\n",
    "# Observed frequency table (Product Type vs Satisfaction)\n",
    "observed = np.array([[30, 10], [20, 40]])  # [[Satisfied, Not Satisfied], [Satisfied, Not Satisfied]]\n",
    "\n",
    "# Perform Chi-Square test\n",
    "chi2_stat, p_value, dof, expected = stats.chi2_contingency(observed)\n",
    "\n",
    "# Print results\n",
    "print(f\"Chi-Square Statistic: {chi2_stat:.4f}\")\n",
    "print(f\"P-Value: {p_value:.4f}\")\n",
    "\n",
    "# Decision\n",
    "if p_value < alpha:\n",
    "    print(\"Reject the null hypothesis: Customer satisfaction depends on product type.\")\n",
    "else:\n",
    "    print(\"Fail to reject the null hypothesis: No evidence that satisfaction depends on product type.\")\n"
   ]
  },
  {
   "cell_type": "markdown",
   "id": "29384228-7d54-4d81-8057-6912b680ea8e",
   "metadata": {},
   "source": [
    "**Summary of Decision Making**"
   ]
  },
  {
   "cell_type": "code",
   "execution_count": 9,
   "id": "4f275663-93f1-45ef-abe8-73b52be6ea8e",
   "metadata": {},
   "outputs": [
    {
     "data": {
      "text/html": [
       "<img src=\"C:/Users/Suhel/Desktop/Statistics/24.png\" width=\"800\" height=\"300\"/>"
      ],
      "text/plain": [
       "<IPython.core.display.Image object>"
      ]
     },
     "execution_count": 9,
     "metadata": {},
     "output_type": "execute_result"
    }
   ],
   "source": [
    "# import image module \n",
    "from IPython.display import Image \n",
    "  \n",
    "# get the image \n",
    "Image(url=\"C:/Users/Suhel/Desktop/Statistics/24.png\", width=800, height=300) "
   ]
  },
  {
   "cell_type": "markdown",
   "id": "a3621d31-17b8-4ef1-ae3b-583edccd2413",
   "metadata": {},
   "source": [
    "**Conclusion**"
   ]
  },
  {
   "cell_type": "markdown",
   "id": "9dc4acd7-3c3c-4a7c-b88a-01d774387eca",
   "metadata": {},
   "source": [
    "1.Hypothesis testing is essential for making data-driven decisions\n",
    "\n",
    "2.Different tests are used for different types of data.\n",
    "\n",
    "3.The p-value helps determine whether to reject the null hypothesis."
   ]
  },
  {
   "cell_type": "markdown",
   "id": "fdb85260-fe3c-4366-bbbc-899d666e151b",
   "metadata": {},
   "source": [
    "**ANOVA (Analysis of Variance)**"
   ]
  },
  {
   "cell_type": "markdown",
   "id": "f2c7e5bc-11a2-4f16-afb1-a164d631f16e",
   "metadata": {},
   "source": [
    "**ANOVA (Analysis of Variance)** is a statistical test used to **compare the means** of **three or more groups** to determine if there is a statistically significant difference between them."
   ]
  },
  {
   "cell_type": "code",
   "execution_count": 11,
   "id": "43bf72b5-b0ef-4778-915f-a7391dcacdd4",
   "metadata": {},
   "outputs": [
    {
     "data": {
      "text/html": [
       "<img src=\"C:/Users/Suhel/Desktop/Statistics/25.png\" width=\"800\" height=\"300\"/>"
      ],
      "text/plain": [
       "<IPython.core.display.Image object>"
      ]
     },
     "execution_count": 11,
     "metadata": {},
     "output_type": "execute_result"
    }
   ],
   "source": [
    "# import image module \n",
    "from IPython.display import Image \n",
    "  \n",
    "# get the image \n",
    "Image(url=\"C:/Users/Suhel/Desktop/Statistics/25.png\", width=800, height=300) "
   ]
  },
  {
   "cell_type": "markdown",
   "id": "4725a689-510d-4918-b045-741de5a8dea3",
   "metadata": {},
   "source": [
    "**Example Scenario**\n",
    "  \n",
    "A teacher wants to compare the exam scores of students from three different classes to see if there is a significant difference in their performances."
   ]
  },
  {
   "cell_type": "code",
   "execution_count": 12,
   "id": "248b4b2c-0e54-423e-97bc-9f65aa2901c9",
   "metadata": {},
   "outputs": [
    {
     "data": {
      "text/html": [
       "<img src=\"C:/Users/Suhel/Desktop/Statistics/256.png\" width=\"800\" height=\"300\"/>"
      ],
      "text/plain": [
       "<IPython.core.display.Image object>"
      ]
     },
     "execution_count": 12,
     "metadata": {},
     "output_type": "execute_result"
    }
   ],
   "source": [
    "# import image module \n",
    "from IPython.display import Image \n",
    "  \n",
    "# get the image \n",
    "Image(url=\"C:/Users/Suhel/Desktop/Statistics/256.png\", width=800, height=300) "
   ]
  },
  {
   "cell_type": "code",
   "execution_count": 13,
   "id": "a6d214f6-debd-448a-aa44-42a6886293a8",
   "metadata": {},
   "outputs": [
    {
     "name": "stdout",
     "output_type": "stream",
     "text": [
      "F-Statistic: 43.4040\n",
      "P-Value: 0.0000\n",
      "Reject the null hypothesis: There is a significant difference between the class scores.\n"
     ]
    }
   ],
   "source": [
    "import numpy as np\n",
    "import scipy.stats as stats\n",
    "\n",
    "# Exam scores of students from three different classes\n",
    "class_A = [85, 90, 88, 92, 86, 89, 91, 87, 93, 95]\n",
    "class_B = [78, 82, 80, 79, 85, 83, 84, 81, 88, 86]\n",
    "class_C = [72, 75, 78, 74, 76, 77, 79, 73, 80, 81]\n",
    "\n",
    "# Perform One-Way ANOVA\n",
    "f_stat, p_value = stats.f_oneway(class_A, class_B, class_C)\n",
    "\n",
    "# Print results\n",
    "print(f\"F-Statistic: {f_stat:.4f}\")\n",
    "print(f\"P-Value: {p_value:.4f}\")\n",
    "\n",
    "# Decision\n",
    "alpha = 0.05\n",
    "if p_value < alpha:\n",
    "    print(\"Reject the null hypothesis: There is a significant difference between the class scores.\")\n",
    "else:\n",
    "    print(\"Fail to reject the null hypothesis: No significant difference between the class scores.\")\n"
   ]
  },
  {
   "cell_type": "markdown",
   "id": "42c2a2f0-b038-42cd-9c2f-c59cfc62475f",
   "metadata": {},
   "source": [
    "**Interpreting the Output**"
   ]
  },
  {
   "cell_type": "code",
   "execution_count": 14,
   "id": "2db6b7b4-be3d-49d3-a391-38baf16de2f1",
   "metadata": {},
   "outputs": [
    {
     "data": {
      "text/html": [
       "<img src=\"C:/Users/Suhel/Desktop/Statistics/27.png\" width=\"800\" height=\"300\"/>"
      ],
      "text/plain": [
       "<IPython.core.display.Image object>"
      ]
     },
     "execution_count": 14,
     "metadata": {},
     "output_type": "execute_result"
    }
   ],
   "source": [
    "# import image module \n",
    "from IPython.display import Image \n",
    "  \n",
    "# get the image \n",
    "Image(url=\"C:/Users/Suhel/Desktop/Statistics/27.png\", width=800, height=300) "
   ]
  },
  {
   "cell_type": "markdown",
   "id": "a9397917-71a8-46d6-9a0c-0382838788f5",
   "metadata": {},
   "source": [
    "**When to Use ANOVA?**\n",
    "\n",
    "1.Comparing the test scores of students in multiple classes.\n",
    "\n",
    "2.Analyzing the effectiveness of three different teaching methods.\n",
    "\n",
    "3.Comparing the mean customer satisfaction across multiple products."
   ]
  },
  {
   "cell_type": "code",
   "execution_count": null,
   "id": "68cb816e-7c8b-4b56-9ec7-105c7f9531c2",
   "metadata": {},
   "outputs": [],
   "source": []
  }
 ],
 "metadata": {
  "kernelspec": {
   "display_name": "Python 3 (ipykernel)",
   "language": "python",
   "name": "python3"
  },
  "language_info": {
   "codemirror_mode": {
    "name": "ipython",
    "version": 3
   },
   "file_extension": ".py",
   "mimetype": "text/x-python",
   "name": "python",
   "nbconvert_exporter": "python",
   "pygments_lexer": "ipython3",
   "version": "3.11.7"
  }
 },
 "nbformat": 4,
 "nbformat_minor": 5
}
